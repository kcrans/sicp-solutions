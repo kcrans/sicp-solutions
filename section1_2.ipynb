{
 "cells": [
  {
   "cell_type": "markdown",
   "id": "803a0da5",
   "metadata": {},
   "source": [
    "# Section 1.2"
   ]
  },
  {
   "cell_type": "code",
   "execution_count": 1,
   "id": "6dd5d495",
   "metadata": {},
   "outputs": [],
   "source": [
    "#lang iracket/lang #:require sicp"
   ]
  },
  {
   "cell_type": "markdown",
   "id": "1cb25136",
   "metadata": {},
   "source": [
    "## 1.2.1 Problems"
   ]
  },
  {
   "cell_type": "markdown",
   "id": "b3c6000e",
   "metadata": {},
   "source": [
    "### 1.9"
   ]
  },
  {
   "cell_type": "markdown",
   "id": "05ead71e",
   "metadata": {},
   "source": [
    "Here are two different ways to add positive integers using the functions inc and dec:"
   ]
  },
  {
   "cell_type": "markdown",
   "id": "a0be5a22",
   "metadata": {},
   "source": [
    "    (define (+ a b)\n",
    "      (if (= a 0)\n",
    "          b\n",
    "          (inc (+ (dec a) b))))"
   ]
  },
  {
   "cell_type": "markdown",
   "id": "a4451a93",
   "metadata": {},
   "source": [
    "    (define (+ a b)\n",
    "      (if (= a 0)\n",
    "          b\n",
    "          (+ (dec a) (inc b))))"
   ]
  },
  {
   "cell_type": "markdown",
   "id": "065be751",
   "metadata": {},
   "source": [
    "If we wish to compute (+ 4 5), our sequence of operations for the first method will be:"
   ]
  },
  {
   "cell_type": "markdown",
   "id": "8a3cf755",
   "metadata": {},
   "source": [
    "    (+ 4 5)\n",
    "    (inc (+ 3 5))\n",
    "    (inc (inc (+ 2 5)))\n",
    "    (inc (inc (inc (+ 1 5))))\n",
    "    (inc (inc (inc (inc (+ 0 5)))))\n",
    "    (inc (inc (inc (inc 5))))\n",
    "    (inc (inc (inc 6)))\n",
    "    (inc (inc 7))\n",
    "    (inc 8)\n",
    "    (9)"
   ]
  },
  {
   "cell_type": "markdown",
   "id": "b4b62154",
   "metadata": {},
   "source": [
    "And with the second method we get:"
   ]
  },
  {
   "cell_type": "markdown",
   "id": "aa1b6374",
   "metadata": {},
   "source": [
    "    (+ 4 5)\n",
    "    (+ 3 6)\n",
    "    (+ 2 7)\n",
    "    (+ 1 8)\n",
    "    (+ 0 9)\n",
    "    (9)"
   ]
  },
  {
   "cell_type": "markdown",
   "id": "5d7c3095",
   "metadata": {},
   "source": [
    "So we see that the first process is recursive and the second is iterative."
   ]
  },
  {
   "cell_type": "markdown",
   "id": "8bb5f968",
   "metadata": {},
   "source": [
    "### 1.10"
   ]
  },
  {
   "cell_type": "markdown",
   "id": "cfadb672",
   "metadata": {},
   "source": [
    "Ackermann's function:"
   ]
  },
  {
   "cell_type": "code",
   "execution_count": 4,
   "id": "15444297",
   "metadata": {},
   "outputs": [],
   "source": [
    "(define (A x y)\n",
    "  (cond ((= y 0) 0)\n",
    "        ((= x 0) (* 2 y))\n",
    "        ((= y 1) 2)\n",
    "        (else (A (- x 1)\n",
    "                 (A x (- y 1))))))"
   ]
  },
  {
   "cell_type": "markdown",
   "id": "95fabe68",
   "metadata": {},
   "source": [
    "(A 0 (A 1 9)) = (* 2 (A 1 9))\n",
    "\n",
    "= (* 2 (* 2 (A 1 8)))\n",
    "\n",
    "= (* 2 ... 2 (A 1 1)))))))))\n",
    "\n",
    "= 2^10"
   ]
  },
  {
   "cell_type": "code",
   "execution_count": 5,
   "id": "6c1fc66e",
   "metadata": {},
   "outputs": [
    {
     "data": {
      "text/html": [
       "<code>1024</code>"
      ],
      "text/plain": [
       "1024"
      ]
     },
     "execution_count": 5,
     "metadata": {},
     "output_type": "execute_result"
    }
   ],
   "source": [
    "(A 1 10)"
   ]
  },
  {
   "cell_type": "markdown",
   "id": "b200af32",
   "metadata": {},
   "source": [
    "(A 1 (A 2 3))\n",
    "\n",
    "(A 1 (A 1 (A 2 2)))\n",
    "\n",
    "(A 1 (A 1 (A 1 (A 2 1))))\n",
    "\n",
    "(A 1 (A 1 (A 1 2)))\n",
    "\n",
    "(A 1 (A 1 (A 0 (A 1 1))))\n",
    "\n",
    "(A 1 (A 1 (A 0 2)))\n",
    "\n",
    "(A 1 (A 1 4))\n",
    "\n",
    "(A 1 (A 0 (A 1 3)))\n",
    "\n",
    "(A 1 (A 0 (A 0 (A 1 2))))\n",
    "\n",
    "(A 1 (A 0 (A 0 (A 0 (A 1 1)))))\n",
    "\n",
    "(A 1 (A 0 (A 0 (A 0 2))))\n",
    "\n",
    "(A 1 (A 0 (A 0 4)))\n",
    "\n",
    "(A 1 (A 0 8))\n",
    "\n",
    "(A 1 16)\n",
    "\n",
    "= 2^16"
   ]
  },
  {
   "cell_type": "code",
   "execution_count": 7,
   "id": "1e64eccd",
   "metadata": {},
   "outputs": [
    {
     "data": {
      "text/html": [
       "<code>65536</code>"
      ],
      "text/plain": [
       "65536"
      ]
     },
     "execution_count": 7,
     "metadata": {},
     "output_type": "execute_result"
    }
   ],
   "source": [
    "(A 2 4)"
   ]
  },
  {
   "cell_type": "markdown",
   "id": "94fea761",
   "metadata": {},
   "source": [
    "(A 2 (A 3 2))\n",
    "\n",
    "(A 2 (A 2 (A 3 1)))\n",
    "\n",
    "(A 2 (A 2 2))\n",
    "\n",
    "(A 2 (A 1 (A 2 1)))\n",
    "\n",
    "(A 2 (A 1 2))\n",
    "\n",
    "(A 2 4)\n",
    "\n",
    "(A 1 (A 2 3))\n",
    "\n",
    "(A 1 (A 1 (A 2 2)))\n",
    "\n",
    "(A 1 (A 1 4))\n",
    "\n",
    "(A 1 16)"
   ]
  },
  {
   "cell_type": "code",
   "execution_count": 8,
   "id": "ef1bb699",
   "metadata": {},
   "outputs": [
    {
     "data": {
      "text/html": [
       "<code>65536</code>"
      ],
      "text/plain": [
       "65536"
      ]
     },
     "execution_count": 8,
     "metadata": {},
     "output_type": "execute_result"
    }
   ],
   "source": [
    "(A 3 3)"
   ]
  },
  {
   "cell_type": "code",
   "execution_count": 3,
   "id": "5f0932cf",
   "metadata": {},
   "outputs": [],
   "source": [
    "(define (f n) (A 0 n))   ; f(n) = 2n\n",
    "(define (g n) (A 1 n))   ; g(n) = 2^n\n",
    "(define (h n) (A 2 n))   ; h(n) = 2^(2^n) = 4^n\n",
    "(define (k n) (* 5 n n)) ; k(n) = 5n^2"
   ]
  },
  {
   "cell_type": "markdown",
   "id": "c3280c6f",
   "metadata": {},
   "source": [
    "## 1.2.2 Problems"
   ]
  },
  {
   "cell_type": "markdown",
   "id": "9c6f72d7",
   "metadata": {},
   "source": [
    "### 1.11"
   ]
  },
  {
   "cell_type": "code",
   "execution_count": null,
   "id": "3a18c100",
   "metadata": {},
   "outputs": [],
   "source": []
  },
  {
   "cell_type": "markdown",
   "id": "8886982a",
   "metadata": {},
   "source": [
    "### 1.12"
   ]
  },
  {
   "cell_type": "code",
   "execution_count": null,
   "id": "d466720a",
   "metadata": {},
   "outputs": [],
   "source": []
  },
  {
   "cell_type": "markdown",
   "id": "2d1cbe19",
   "metadata": {},
   "source": [
    "### 1.13"
   ]
  },
  {
   "cell_type": "code",
   "execution_count": null,
   "id": "1f49d963",
   "metadata": {},
   "outputs": [],
   "source": []
  },
  {
   "cell_type": "markdown",
   "id": "9c89294e",
   "metadata": {},
   "source": [
    "## 1.2.3 Problems"
   ]
  },
  {
   "cell_type": "markdown",
   "id": "e94bd8c4",
   "metadata": {},
   "source": [
    "### 1.14"
   ]
  },
  {
   "cell_type": "code",
   "execution_count": null,
   "id": "90546082",
   "metadata": {},
   "outputs": [],
   "source": []
  },
  {
   "cell_type": "markdown",
   "id": "e2ad9d02",
   "metadata": {},
   "source": [
    "### 1.15"
   ]
  },
  {
   "cell_type": "code",
   "execution_count": null,
   "id": "460f9181",
   "metadata": {},
   "outputs": [],
   "source": []
  },
  {
   "cell_type": "markdown",
   "id": "bca209de",
   "metadata": {},
   "source": [
    "## 1.2.4 Problems"
   ]
  },
  {
   "cell_type": "markdown",
   "id": "a572e089",
   "metadata": {},
   "source": [
    "### 1.16"
   ]
  },
  {
   "cell_type": "code",
   "execution_count": null,
   "id": "069dddc5",
   "metadata": {},
   "outputs": [],
   "source": []
  },
  {
   "cell_type": "markdown",
   "id": "add020bd",
   "metadata": {},
   "source": [
    "### 1.17"
   ]
  },
  {
   "cell_type": "code",
   "execution_count": null,
   "id": "9322f10c",
   "metadata": {},
   "outputs": [],
   "source": []
  },
  {
   "cell_type": "markdown",
   "id": "1e43d9f2",
   "metadata": {},
   "source": [
    "### 1.18"
   ]
  },
  {
   "cell_type": "code",
   "execution_count": null,
   "id": "87cd5b48",
   "metadata": {},
   "outputs": [],
   "source": []
  },
  {
   "cell_type": "markdown",
   "id": "ea1964f7",
   "metadata": {},
   "source": [
    "### 1.19"
   ]
  },
  {
   "cell_type": "code",
   "execution_count": null,
   "id": "ec230318",
   "metadata": {},
   "outputs": [],
   "source": []
  },
  {
   "cell_type": "markdown",
   "id": "ba4f876d",
   "metadata": {},
   "source": [
    "## 1.2.5 Problems"
   ]
  },
  {
   "cell_type": "markdown",
   "id": "bef9ef8b",
   "metadata": {},
   "source": [
    "### 1.20"
   ]
  },
  {
   "cell_type": "code",
   "execution_count": null,
   "id": "e2fbbe89",
   "metadata": {},
   "outputs": [],
   "source": []
  },
  {
   "cell_type": "markdown",
   "id": "1e48e74c",
   "metadata": {},
   "source": [
    "### 1.21"
   ]
  },
  {
   "cell_type": "code",
   "execution_count": null,
   "id": "b05ee115",
   "metadata": {},
   "outputs": [],
   "source": []
  },
  {
   "cell_type": "markdown",
   "id": "cc7004b5",
   "metadata": {},
   "source": [
    "### 1.22"
   ]
  },
  {
   "cell_type": "code",
   "execution_count": null,
   "id": "f291ccf4",
   "metadata": {},
   "outputs": [],
   "source": []
  },
  {
   "cell_type": "markdown",
   "id": "cbdd22ec",
   "metadata": {},
   "source": [
    "### 1.23"
   ]
  },
  {
   "cell_type": "code",
   "execution_count": null,
   "id": "b5160bba",
   "metadata": {},
   "outputs": [],
   "source": []
  },
  {
   "cell_type": "markdown",
   "id": "7077a425",
   "metadata": {},
   "source": [
    "### 1.24"
   ]
  },
  {
   "cell_type": "code",
   "execution_count": null,
   "id": "239d46c4",
   "metadata": {},
   "outputs": [],
   "source": []
  },
  {
   "cell_type": "markdown",
   "id": "58106329",
   "metadata": {},
   "source": [
    "### 1.25"
   ]
  },
  {
   "cell_type": "code",
   "execution_count": null,
   "id": "72f67331",
   "metadata": {},
   "outputs": [],
   "source": []
  },
  {
   "cell_type": "markdown",
   "id": "586dde75",
   "metadata": {},
   "source": [
    "### 1.26"
   ]
  },
  {
   "cell_type": "code",
   "execution_count": null,
   "id": "622b6b48",
   "metadata": {},
   "outputs": [],
   "source": []
  },
  {
   "cell_type": "markdown",
   "id": "71fd072b",
   "metadata": {},
   "source": [
    "### 1.27"
   ]
  },
  {
   "cell_type": "code",
   "execution_count": null,
   "id": "c15c6a57",
   "metadata": {},
   "outputs": [],
   "source": []
  },
  {
   "cell_type": "markdown",
   "id": "4dcd7c38",
   "metadata": {},
   "source": [
    "### 1.28"
   ]
  },
  {
   "cell_type": "code",
   "execution_count": null,
   "id": "0a6ebc8d",
   "metadata": {},
   "outputs": [],
   "source": []
  }
 ],
 "metadata": {
  "kernelspec": {
   "display_name": "Racket",
   "language": "racket",
   "name": "racket"
  },
  "language_info": {
   "codemirror_mode": "scheme",
   "file_extension": ".rkt",
   "mimetype": "text/x-racket",
   "name": "Racket",
   "pygments_lexer": "racket",
   "version": "8.9"
  }
 },
 "nbformat": 4,
 "nbformat_minor": 5
}
