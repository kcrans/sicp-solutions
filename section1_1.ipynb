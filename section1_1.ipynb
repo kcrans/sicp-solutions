{
 "cells": [
  {
   "cell_type": "markdown",
   "id": "803a0da5",
   "metadata": {},
   "source": [
    "## Section 1.1"
   ]
  },
  {
   "cell_type": "code",
   "execution_count": 2,
   "id": "6dd5d495",
   "metadata": {},
   "outputs": [
    {
     "data": {
      "text/html": [
       "<code>5</code>"
      ],
      "text/plain": [
       "5"
      ]
     },
     "execution_count": 2,
     "metadata": {},
     "output_type": "execute_result"
    }
   ],
   "source": [
    "#lang iracket/lang #:require sicp\n",
    "(+ 2 3)"
   ]
  },
  {
   "cell_type": "markdown",
   "id": "b3c6000e",
   "metadata": {},
   "source": [
    "### 1.1"
   ]
  },
  {
   "cell_type": "code",
   "execution_count": 4,
   "id": "42c097be",
   "metadata": {},
   "outputs": [
    {
     "data": {
      "text/html": [
       "<code>16</code>"
      ],
      "text/plain": [
       "16"
      ]
     },
     "execution_count": 4,
     "metadata": {},
     "output_type": "execute_result"
    }
   ],
   "source": [
    "10 ; Result: 10\n",
    "(+ 5 3 4) ; Result: 12\n",
    "(- 9 1) ; Result: 8\n",
    "(/ 6 2) ; Result: 3\n",
    "(+ (* 2 4) (- 4 6)) ; Result: 6\n",
    "(define a 3) ; Result: nothing, up to interpeter\n",
    "(define b (+ a 1)) ; Result: nothing, up to interpeter\n",
    "(+ a b (* a b)) ; Result: 19\n",
    "(= a b) ; Result: #f (false)\n",
    "(if (and (> b a) (< b (* a b)))\n",
    "    b\n",
    "    a) ; Result 4 (b)\n",
    "(cond ((= a 4) 6)\n",
    "      ((= b 4) (+ 6 7 a))\n",
    "      (else 25)) ; Result: 16\n",
    "(+ 2 (if (> b a) b a)) ; Result: 6\n",
    "(* (cond ((> a b) a)\n",
    "         ((< a b) b)\n",
    "         (else -1))\n",
    "   (+ a 1)) ; Result: 16"
   ]
  },
  {
   "cell_type": "markdown",
   "id": "079eb34e",
   "metadata": {},
   "source": [
    " ### 1.2"
   ]
  },
  {
   "cell_type": "code",
   "execution_count": 5,
   "id": "9fe8135f",
   "metadata": {},
   "outputs": [
    {
     "data": {
      "text/html": [
       "<code>-37/150</code>"
      ],
      "text/plain": [
       "-37/150"
      ]
     },
     "execution_count": 5,
     "metadata": {},
     "output_type": "execute_result"
    }
   ],
   "source": [
    "(/ (+ 5 4\n",
    "      (- 2\n",
    "         (- 3\n",
    "            (+ 6\n",
    "               (/ 4 5)))))\n",
    "   (* 3\n",
    "      (- 6 2)\n",
    "      (- 2 7)))"
   ]
  },
  {
   "cell_type": "markdown",
   "id": "99b4e9c2",
   "metadata": {},
   "source": [
    "### 1.3"
   ]
  },
  {
   "cell_type": "code",
   "execution_count": 6,
   "id": "6c0d4b81",
   "metadata": {},
   "outputs": [
    {
     "data": {
      "text/html": [
       "<code>10</code>"
      ],
      "text/plain": [
       "10"
      ]
     },
     "execution_count": 6,
     "metadata": {},
     "output_type": "execute_result"
    }
   ],
   "source": [
    "(define (square x)\n",
    "  (* x x))\n",
    "\n",
    "(define (sum-of-squares x y)\n",
    "  (+ (square x) (square y)))\n",
    "\n",
    "(define (>= x y)\n",
    "  (not (< x y)))\n",
    "\n",
    "(define (sum-squares-top-2 x y z)\n",
    "  (cond ((and (>= y x) (>= z x)) (sum-of-squares y z))   ; x smallest\n",
    "        ((and (>= x y) (>= z y)) (sum-of-squares x z))   ; y smallest\n",
    "        ((and (>= x z) (>= y z)) (sum-of-squares x y)))) ; z smallest\n",
    " \n",
    "(sum-squares-top-2 1 2 3)   ; 13 = 2^2 + 3^2\n",
    "(sum-squares-top-2 2 3 1)   ; 13 = 2^2 + 3^2\n",
    "(sum-squares-top-2 -1 -2 3) ; 10 = 3^3 + (-1)^2"
   ]
  },
  {
   "cell_type": "markdown",
   "id": "16eacbd2",
   "metadata": {},
   "source": [
    "### 1.4"
   ]
  },
  {
   "cell_type": "code",
   "execution_count": 8,
   "id": "4a4cbe54",
   "metadata": {},
   "outputs": [],
   "source": [
    "(define (a-plus-abs-b a b)\n",
    "  ((if (> b 0) + -) a b))"
   ]
  },
  {
   "cell_type": "markdown",
   "id": "08a8f8fd",
   "metadata": {},
   "source": [
    "The operator for the combination is (if (> b 0) + -)).\n",
    "Evaluating this conditional expression gives us + if b > 0 and - otherwise\n",
    "So we have a procdure that evaluates - a b if b <=0 and + a b otherwise\n",
    "I.e. a + abs(b)"
   ]
  },
  {
   "cell_type": "code",
   "execution_count": 9,
   "id": "e17dbb1e",
   "metadata": {},
   "outputs": [
    {
     "data": {
      "text/html": [
       "<code>59</code>"
      ],
      "text/plain": [
       "59"
      ]
     },
     "execution_count": 9,
     "metadata": {},
     "output_type": "execute_result"
    }
   ],
   "source": [
    "(a-plus-abs-b 3 -56)"
   ]
  },
  {
   "cell_type": "markdown",
   "id": "c948526c",
   "metadata": {},
   "source": [
    "### 1.5"
   ]
  },
  {
   "cell_type": "markdown",
   "id": "83023506",
   "metadata": {},
   "source": [
    "    (define (p) (p))\n",
    "    (define (test x y)\n",
    "      (if (= x 0)\n",
    "          0\n",
    "          y))\n",
    "    (test 0 (p))\n",
    "\n",
    "With an interpreter that uses applicative-order evaluation, the interpreter will be stuck recursing as it evaluates (p) which which then evalutes to (p) which evaluates to (p) and so on...\n",
    "\n",
    "With an interpreter that uses normal-order evaluation, the procedure will return 0. This is because the expanded expression is:\n",
    "\n",
    "    (test 0 (p)) =\n",
    "    (if  (= x 0)\n",
    "         0\n",
    "         (y)))\n",
    "\n",
    "And x = 0 so do to the properties of the if statement, y = (p) will never be evaluated (and hence no infinite regress) and the consequent will actually be evaluated.\n"
   ]
  },
  {
   "cell_type": "markdown",
   "id": "e51e0e53",
   "metadata": {},
   "source": [
    "Code from the reading section:"
   ]
  },
  {
   "cell_type": "code",
   "execution_count": 11,
   "id": "5da21d04",
   "metadata": {},
   "outputs": [],
   "source": [
    "(define (average x y)\n",
    "  (/ (+ x y) 2))\n",
    "\n",
    "(define (abs x)\n",
    "  (if (< x 0)\n",
    "      (- x)\n",
    "      x))\n",
    "(define (improve guess x)\n",
    "  (average guess (/ x guess)))\n",
    "\n",
    "(define (good-enough? guess x)\n",
    "  (< (abs (- (square guess) x)) 0.001))\n",
    "\n",
    "(define (sqrt-iter guess x)\n",
    "  (if (good-enough? guess x)\n",
    "      guess\n",
    "      (sqrt-iter (improve guess x) x)))\n",
    "\n",
    "; Always start out a guess with 1.0 for Newton's method\n",
    "(define (sqrt x)\n",
    "  (sqrt-iter 1.0 x))"
   ]
  },
  {
   "cell_type": "markdown",
   "id": "7a8f4689",
   "metadata": {},
   "source": [
    "### 1.6"
   ]
  },
  {
   "cell_type": "markdown",
   "id": "44c1001d",
   "metadata": {},
   "source": [
    "The problem with Alyssa's new-if procedure is due to Scheme's applicative-order evaluation. Every parameter will be evaluated, including the else-clause even if the predicate is true. This might have some side-effets and in Alyssa's case when defining sqrt-iter will result in an endless recursion as calls to sqrt-iter will be made ignoring the good-enough predicate.\n",
    "Here's it in action:"
   ]
  },
  {
   "cell_type": "code",
   "execution_count": null,
   "id": "06585f23",
   "metadata": {},
   "outputs": [],
   "source": [
    "(define (new-if predicate\n",
    "                then-clause\n",
    "                else-clause)\n",
    "  (cond (predicate then-clause)\n",
    "        (else else-clause)))\n",
    "(new-if (= 2 3) 0 5)\n",
    "(new-if (= 1 1) 0 5)\n",
    "\n",
    "(define (sqrt-iter-alt guess x)\n",
    "  (new-if (good-enough? guess x)\n",
    "          guess\n",
    "          (sqrt-iter-alt (improve guess x) x)))\n",
    "(sqrt-iter-alt 1 5)"
   ]
  },
  {
   "cell_type": "markdown",
   "id": "1f2790b9",
   "metadata": {},
   "source": [
    "If is a special form, not a procedure because the \"parameters\"(operands) are not necessarily all evaluated"
   ]
  },
  {
   "cell_type": "markdown",
   "id": "56efc77c",
   "metadata": {},
   "source": [
    "### 1.7"
   ]
  },
  {
   "cell_type": "markdown",
   "id": "1352c277",
   "metadata": {},
   "source": [
    "(a) For a very small number, the square root is itself very small. So our good-enough value of 0.001 might define too large a range of acceptable values\n",
    "For example:"
   ]
  },
  {
   "cell_type": "code",
   "execution_count": 13,
   "id": "6e659a4b",
   "metadata": {},
   "outputs": [
    {
     "data": {
      "text/html": [
       "<code>0.03640532954316447</code>"
      ],
      "text/plain": [
       "0.03640532954316447"
      ]
     },
     "execution_count": 13,
     "metadata": {},
     "output_type": "execute_result"
    }
   ],
   "source": [
    "(sqrt 0.0005)"
   ]
  },
  {
   "cell_type": "code",
   "execution_count": 14,
   "id": "631db90e",
   "metadata": {},
   "outputs": [
    {
     "data": {
      "text/html": [
       "<code>0.001325348019146404</code>"
      ],
      "text/plain": [
       "0.001325348019146404"
      ]
     },
     "execution_count": 14,
     "metadata": {},
     "output_type": "execute_result"
    }
   ],
   "source": [
    "(square (sqrt 0.0005))"
   ]
  },
  {
   "cell_type": "markdown",
   "id": "b84290c4",
   "metadata": {},
   "source": [
    "The square of our final guess is indeed within 0.001 of 0.0005, but the relative distance is very large. I.e."
   ]
  },
  {
   "cell_type": "code",
   "execution_count": 15,
   "id": "b42640e5",
   "metadata": {},
   "outputs": [
    {
     "data": {
      "text/html": [
       "<code>2.650696038292808</code>"
      ],
      "text/plain": [
       "2.650696038292808"
      ]
     },
     "execution_count": 15,
     "metadata": {},
     "output_type": "execute_result"
    }
   ],
   "source": [
    "(/ (square (sqrt 0.0005)) 0.0005)"
   ]
  },
  {
   "cell_type": "markdown",
   "id": "d6a47a80",
   "metadata": {},
   "source": [
    "So its square is 2.65 times as large as the actual value its square should be"
   ]
  },
  {
   "cell_type": "markdown",
   "id": "574cdbd7",
   "metadata": {},
   "source": [
    "(b) Machines have limited precision, so with very large numbers we run into some problems.\n",
    "\n",
    "Take a very large number like 2 x 10^(20) for instance:\n",
    "\n",
    "(sqrt 2e20)\n",
    "\n",
    "It will run infinitely as it will never reach a guess that is good enough in terms of our current bound.\n",
    "\n",
    "The actual value is sqrt(2) * 10^(10).\n",
    "\n",
    "If you look at the history of the guesses, eventually the procedure will reach 14142135623.73095. The thing with floating point numbers is that the \"spaces\"vbetween possible numbers increase as the represented numbers get larger. So we can reach a point where there is no number between guess and x/guess\n",
    "\n",
    "guess = 14142135623.73095\n",
    "\n",
    "x/guess = 2e20/guess = 14142135623.730951\n",
    "\n",
    "average = 14142135623.73095\n",
    "\n",
    "but\n",
    "\n",
    "(abs (- (square 14142135623.73095) 2e20)) = 32768 > 0.001\n",
    "\n",
    "So we will be stuck in an endless recursion.\n",
    "A way to counter this is to have a stopping condition that recognizes if the guesses are unchanging."
   ]
  },
  {
   "cell_type": "markdown",
   "id": "9712636b",
   "metadata": {},
   "source": [
    "Here's a better version that uses the relative differences between guesses as a stopping condition:"
   ]
  },
  {
   "cell_type": "code",
   "execution_count": null,
   "id": "0ac2ea39",
   "metadata": {},
   "outputs": [],
   "source": [
    "(define (good-enough-2? old_guess guess)\n",
    "  (< (/ (abs (- guess old_guess)) guess) 0.0001))\n",
    "\n",
    "(define (sqrt-iter-2 guess x)\n",
    "  (if (good-enough-2? guess (improve guess x))\n",
    "      (improve guess x)\n",
    "      (sqrt-iter-2 (improve guess x) x)))\n",
    "\n",
    "(define (sqrt-2 x)\n",
    "  (sqrt-iter-2 1.0 x))\n",
    "\n",
    "(sqrt-2 0.0005)"
   ]
  },
  {
   "cell_type": "markdown",
   "id": "bee94917",
   "metadata": {},
   "source": [
    "### 1.8"
   ]
  },
  {
   "cell_type": "code",
   "execution_count": null,
   "id": "e1e8cdb8",
   "metadata": {},
   "outputs": [],
   "source": [
    "; Newton's method for cube roots:\n",
    "\n",
    "(define (cubert x)\n",
    "  (define (good-enough? old_guess guess)\n",
    "    (< (/ (abs (- guess old_guess)) guess) 0.0001))\n",
    "  \n",
    "  (define (improve-cube guess)\n",
    "    (/ (+\n",
    "        (/ x (square guess))\n",
    "        (* 2 guess))\n",
    "       3))\n",
    "  \n",
    "  (define (cubert-iter guess)\n",
    "    (define improved-guess (improve-cube guess))\n",
    "    (if (good-enough? guess improved-guess)\n",
    "        improved-guess\n",
    "        (cubert-iter improved-guess)))\n",
    "  \n",
    "  (cubert-iter 1.0))\n",
    "\n",
    " (cubert 8)"
   ]
  }
 ],
 "metadata": {
  "kernelspec": {
   "display_name": "Racket",
   "language": "racket",
   "name": "racket"
  },
  "language_info": {
   "codemirror_mode": "scheme",
   "file_extension": ".rkt",
   "mimetype": "text/x-racket",
   "name": "Racket",
   "pygments_lexer": "racket",
   "version": "8.9"
  }
 },
 "nbformat": 4,
 "nbformat_minor": 5
}
